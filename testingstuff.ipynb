{
 "cells": [
  {
   "cell_type": "code",
   "execution_count": null,
   "metadata": {},
   "outputs": [
    {
     "ename": "TypeError",
     "evalue": "DensityCore.set_density_profile() got an unexpected keyword argument 'is_smooth'",
     "output_type": "error",
     "traceback": [
      "\u001b[1;31m---------------------------------------------------------------------------\u001b[0m",
      "\u001b[1;31mTypeError\u001b[0m                                 Traceback (most recent call last)",
      "\u001b[1;32mc:\\Users\\ag\\Documents\\Python\\HL_gagliardini\\testingstuff.ipynb Cell 1\u001b[0m in \u001b[0;36m1\n\u001b[0;32m     <a href='vscode-notebook-cell:/c%3A/Users/ag/Documents/Python/HL_gagliardini/testingstuff.ipynb#W4sZmlsZQ%3D%3D?line=11'>12</a>\u001b[0m     core\u001b[39m.\u001b[39mset_density_profile(df\u001b[39m.\u001b[39mz, df\u001b[39m.\u001b[39mrho, is_smooth\u001b[39m=\u001b[39m\u001b[39mTrue\u001b[39;00m)\n\u001b[0;32m     <a href='vscode-notebook-cell:/c%3A/Users/ag/Documents/Python/HL_gagliardini/testingstuff.ipynb#W4sZmlsZQ%3D%3D?line=12'>13</a>\u001b[0m     \u001b[39mreturn\u001b[39;00m core\n\u001b[1;32m---> <a href='vscode-notebook-cell:/c%3A/Users/ag/Documents/Python/HL_gagliardini/testingstuff.ipynb#W4sZmlsZQ%3D%3D?line=14'>15</a>\u001b[0m c\u001b[39m=\u001b[39m load_EGsune()\n\u001b[0;32m     <a href='vscode-notebook-cell:/c%3A/Users/ag/Documents/Python/HL_gagliardini/testingstuff.ipynb#W4sZmlsZQ%3D%3D?line=16'>17</a>\u001b[0m c\u001b[39m.\u001b[39mplot()\n\u001b[0;32m     <a href='vscode-notebook-cell:/c%3A/Users/ag/Documents/Python/HL_gagliardini/testingstuff.ipynb#W4sZmlsZQ%3D%3D?line=17'>18</a>\u001b[0m c\n",
      "\u001b[1;32mc:\\Users\\ag\\Documents\\Python\\HL_gagliardini\\testingstuff.ipynb Cell 1\u001b[0m in \u001b[0;36m1\n\u001b[0;32m     <a href='vscode-notebook-cell:/c%3A/Users/ag/Documents/Python/HL_gagliardini/testingstuff.ipynb#W4sZmlsZQ%3D%3D?line=9'>10</a>\u001b[0m df \u001b[39m=\u001b[39m pd\u001b[39m.\u001b[39mread_csv(\u001b[39m'\u001b[39m\u001b[39megrip/sune/egrip_density_iceeqdepth.txt\u001b[39m\u001b[39m'\u001b[39m,sep\u001b[39m=\u001b[39m\u001b[39m'\u001b[39m\u001b[39m\\\u001b[39m\u001b[39ms+\u001b[39m\u001b[39m'\u001b[39m,comment\u001b[39m=\u001b[39m\u001b[39m'\u001b[39m\u001b[39m%\u001b[39m\u001b[39m'\u001b[39m,names\u001b[39m=\u001b[39m[\u001b[39m'\u001b[39m\u001b[39mz\u001b[39m\u001b[39m'\u001b[39m,\u001b[39m'\u001b[39m\u001b[39mrho\u001b[39m\u001b[39m'\u001b[39m], usecols\u001b[39m=\u001b[39m[\u001b[39m0\u001b[39m,\u001b[39m1\u001b[39m])\n\u001b[0;32m     <a href='vscode-notebook-cell:/c%3A/Users/ag/Documents/Python/HL_gagliardini/testingstuff.ipynb#W4sZmlsZQ%3D%3D?line=10'>11</a>\u001b[0m df \u001b[39m=\u001b[39m df[df\u001b[39m.\u001b[39mz\u001b[39m<\u001b[39m\u001b[39m120\u001b[39m]\n\u001b[1;32m---> <a href='vscode-notebook-cell:/c%3A/Users/ag/Documents/Python/HL_gagliardini/testingstuff.ipynb#W4sZmlsZQ%3D%3D?line=11'>12</a>\u001b[0m core\u001b[39m.\u001b[39;49mset_density_profile(df\u001b[39m.\u001b[39;49mz, df\u001b[39m.\u001b[39;49mrho, is_smooth\u001b[39m=\u001b[39;49m\u001b[39mTrue\u001b[39;49;00m)\n\u001b[0;32m     <a href='vscode-notebook-cell:/c%3A/Users/ag/Documents/Python/HL_gagliardini/testingstuff.ipynb#W4sZmlsZQ%3D%3D?line=12'>13</a>\u001b[0m \u001b[39mreturn\u001b[39;00m core\n",
      "\u001b[1;31mTypeError\u001b[0m: DensityCore.set_density_profile() got an unexpected keyword argument 'is_smooth'"
     ]
    }
   ],
   "source": [
    "import pandas as pd\n",
    "import density_core\n",
    "\n",
    "# rootfolder= '/users/ag/hugedata/sumup/density'\n",
    "rootfolder = \"sumup\"\n",
    "df = pd.read_csv(f\"{rootfolder}/sumup_densities_cleaned.zip\")\n",
    "df = df[df.lat>0] # not antarctica\n",
    "\n",
    "def get_core(coreid=381, site_name=None):\n",
    "    if not site_name:\n",
    "        site_name = f\"SUMup{coreid}\"\n",
    "    data = df[df.id == coreid]\n",
    "    core = density_core.DensityCore(site_name=site_name, lat=data.lat.iloc[0], lon=data.lon.iloc[0])\n",
    "    core.set_density_profile(data.midpoint_depth, data.density, is_smooth=False)\n",
    "    return core\n",
    "\n",
    "\n"
   ]
  },
  {
   "cell_type": "code",
   "execution_count": null,
   "metadata": {},
   "outputs": [],
   "source": [
    "df"
   ]
  },
  {
   "cell_type": "code",
   "execution_count": null,
   "metadata": {},
   "outputs": [],
   "source": []
  }
 ],
 "metadata": {
  "kernelspec": {
   "display_name": "pygam",
   "language": "python",
   "name": "python3"
  },
  "language_info": {
   "codemirror_mode": {
    "name": "ipython",
    "version": 3
   },
   "file_extension": ".py",
   "mimetype": "text/x-python",
   "name": "python",
   "nbconvert_exporter": "python",
   "pygments_lexer": "ipython3",
   "version": "3.10.8"
  },
  "orig_nbformat": 4
 },
 "nbformat": 4,
 "nbformat_minor": 2
}
